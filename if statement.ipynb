{
 "cells": [
  {
   "cell_type": "markdown",
   "id": "2ce42c09-cdd4-415c-ac1e-dddafc5bf54c",
   "metadata": {},
   "source": [
    "Assignment 1: Conditionals and logic"
   ]
  },
  {
   "cell_type": "markdown",
   "id": "01a17538-a0f4-494b-8164-6e36144311a5",
   "metadata": {},
   "source": [
    "1) Check if a number is even or odd"
   ]
  },
  {
   "cell_type": "code",
   "execution_count": 16,
   "id": "b22d5535-8c75-49c8-88ca-c5937da48dde",
   "metadata": {},
   "outputs": [
    {
     "name": "stdout",
     "output_type": "stream",
     "text": [
      "even\n"
     ]
    }
   ],
   "source": [
    "a=4\n",
    "if a%2==0:\n",
    "    print(\"even\")\n",
    "else:\n",
    "    print(\"odd\")"
   ]
  },
  {
   "cell_type": "markdown",
   "id": "7cd6221c-614e-4ac3-9da7-a29fb26c275c",
   "metadata": {},
   "source": [
    "2) Check if a number is positive or negative or zero"
   ]
  },
  {
   "cell_type": "code",
   "execution_count": 25,
   "id": "0888e4b1-61ef-4d58-abed-b8e915360fc2",
   "metadata": {},
   "outputs": [
    {
     "name": "stdout",
     "output_type": "stream",
     "text": [
      "zero\n"
     ]
    }
   ],
   "source": [
    "b = 0\n",
    "if b > 0:\n",
    "    print(\"positive\")\n",
    "elif b < 0:\n",
    "    print(\"negative\")\n",
    "elif b == 0:\n",
    "    print(\"zero\")"
   ]
  },
  {
   "cell_type": "markdown",
   "id": "c8b1cf27-77dc-41d4-9390-145872afe809",
   "metadata": {},
   "source": [
    "3) Check if a number is divisible by 3"
   ]
  },
  {
   "cell_type": "code",
   "execution_count": 57,
   "id": "6b5e96d0-cd27-45f9-8b00-ea4523cd1b10",
   "metadata": {},
   "outputs": [
    {
     "name": "stdout",
     "output_type": "stream",
     "text": [
      "not divisible\n"
     ]
    }
   ],
   "source": [
    "a=260\n",
    "if a%3==0:\n",
    "    print(\"divisble\")\n",
    "else:\n",
    "    print(\"not divisible\")"
   ]
  },
  {
   "cell_type": "markdown",
   "id": "45b5b6f2-61fd-4f3b-891b-9a3eb4a6bb28",
   "metadata": {},
   "source": [
    "3) Check whether a number is divisible by 3 or 5"
   ]
  },
  {
   "cell_type": "code",
   "execution_count": 69,
   "id": "e18bad77-6e53-4514-8975-346ecff30dba",
   "metadata": {},
   "outputs": [
    {
     "name": "stdout",
     "output_type": "stream",
     "text": [
      "both\n"
     ]
    }
   ],
   "source": [
    "a=15\n",
    "if a%3==0 and a%5==0:\n",
    "    print(\"both\")\n",
    "else:\n",
    "    print(\"not divisble\")"
   ]
  },
  {
   "cell_type": "markdown",
   "id": "bd199134-ef9d-4929-bbf3-b4f6da7d29e2",
   "metadata": {},
   "source": [
    "4) Check whether a number is divisible by 3 and 5"
   ]
  },
  {
   "cell_type": "code",
   "execution_count": 72,
   "id": "073ccd99-36a6-4cdc-9cab-e12b34c2bd9e",
   "metadata": {},
   "outputs": [
    {
     "name": "stdout",
     "output_type": "stream",
     "text": [
      "divible by 3 or 5\n"
     ]
    }
   ],
   "source": [
    "a=15\n",
    "if a%3==0 or a%5==0:\n",
    "    print(\"divible by 3 or 5\")\n",
    "else:\n",
    "    print(\"not divisble\")"
   ]
  },
  {
   "cell_type": "markdown",
   "id": "a62b88fd-e658-4ccd-bace-503cd75193d5",
   "metadata": {},
   "source": [
    "5) Check whether a number is divisible by 3 or 5 but not divisible by 4"
   ]
  },
  {
   "cell_type": "code",
   "execution_count": 157,
   "id": "f569cad4-79de-410d-845b-f5246badf16d",
   "metadata": {},
   "outputs": [
    {
     "name": "stdout",
     "output_type": "stream",
     "text": [
      "divisble by 5\n",
      "not divisble by 3\n",
      "not valid \n"
     ]
    }
   ],
   "source": [
    "a=20\n",
    "if a%3==0:\n",
    "    print(\"divible by 3\")\n",
    "    if a%5==0:\n",
    "       print(\"by both 3 and 5\")\n",
    "       if a%4==0:\n",
    "            print(\"not valid\")\n",
    "    \n",
    "else:\n",
    "    if a%5==0:\n",
    "       print(\"divisble by 5\")\n",
    "       print(\"not divisble by 3\")\n",
    "       if a%4==0:\n",
    "          print(\"not valid \")\n",
    "    else:\n",
    "     print(\"not divisble by both\")\n",
    "\n"
   ]
  },
  {
   "cell_type": "markdown",
   "id": "60a91d0b-33b6-47a6-9233-aad718c9aa1b",
   "metadata": {},
   "source": [
    "6) Find the max and min of two numbers"
   ]
  },
  {
   "cell_type": "code",
   "execution_count": 141,
   "id": "632910cb-fa61-4572-8caa-8e88f4f6b3e5",
   "metadata": {},
   "outputs": [
    {
     "name": "stdout",
     "output_type": "stream",
     "text": [
      "A is max\n"
     ]
    }
   ],
   "source": [
    "a=89\n",
    "b=8\n",
    "if a>b:\n",
    "    print(\"A is max\")\n",
    "elif a==b:\n",
    "    print(\"a=b\")\n",
    "else:\n",
    "    print(\"B is max\")"
   ]
  },
  {
   "cell_type": "markdown",
   "id": "e1090bd6-1c72-4397-a2ab-e889e3daddac",
   "metadata": {},
   "source": [
    "7) Find the max and min of three numbers"
   ]
  },
  {
   "cell_type": "code",
   "execution_count": 3,
   "id": "44c2c59d-22d8-4d98-87df-1c9c1fa68bca",
   "metadata": {},
   "outputs": [
    {
     "name": "stdout",
     "output_type": "stream",
     "text": [
      "B is max\n",
      "A is min\n"
     ]
    }
   ],
   "source": [
    "a = 7\n",
    "b = 11\n",
    "c = 8\n",
    "\n",
    "if a > b and a > c and b > c:\n",
    "    print(\"A is max\")\n",
    "    print(\"C is min\")\n",
    "\n",
    "    if b > a and b > c and a > c:\n",
    "        print(\"B is max\")\n",
    "        print(\"C is min\")\n",
    "\n",
    "        if c > a and c > b and a > b:\n",
    "            print(\"C is max\")\n",
    "            print(\"B is min\")\n",
    "\n",
    "        else:\n",
    "            print(\"A is max\")\n",
    "            print(\"B is min\")\n",
    "\n",
    "    else:\n",
    "        print(\"B is max\")\n",
    "        print(\"A is min\")\n",
    "\n",
    "else:\n",
    "    print(\"B is max\")\n",
    "    print(\"A is min\")\n"
   ]
  },
  {
   "cell_type": "markdown",
   "id": "6c09030e-8b39-43b7-8a79-5b6e9bc85df2",
   "metadata": {},
   "source": [
    "8) Print the number of days in a month"
   ]
  },
  {
   "cell_type": "code",
   "execution_count": 273,
   "id": "7faaf729-dd3d-443e-94d3-7e260898cc3c",
   "metadata": {},
   "outputs": [
    {
     "name": "stdout",
     "output_type": "stream",
     "text": [
      "31\n"
     ]
    }
   ],
   "source": [
    "m=5\n",
    "if m == 1 or m == 3 or m == 5 or 7 or 8 or 10 or 12:\n",
    "   print(\"31\")\n",
    "elif m==2:\n",
    "    print(\"28\")\n",
    "elif m== 2 or 4 or 6 or 9 or 11 :\n",
    "    print(\"30\")"
   ]
  },
  {
   "cell_type": "markdown",
   "id": "d7aff0b0-f2ca-4c74-974a-54b265197e08",
   "metadata": {},
   "source": [
    "9) Is a year a leap year?"
   ]
  },
  {
   "cell_type": "code",
   "execution_count": 263,
   "id": "d85cbb6b-7b9c-4048-9228-cd8c27ad7980",
   "metadata": {},
   "outputs": [
    {
     "name": "stdout",
     "output_type": "stream",
     "text": [
      "leap year\n"
     ]
    }
   ],
   "source": [
    "a=2024\n",
    "if a%4==0 :\n",
    "    if a%100==0:\n",
    "        if a%400 == 0:\n",
    "            print(\"leap year\")\n",
    "        else:\n",
    "            print(\"not a leap year\")\n",
    "    else:\n",
    "        print(\"leap year\")\n",
    "else:\n",
    "    print(\"not a leap year\")"
   ]
  },
  {
   "cell_type": "code",
   "execution_count": 159,
   "id": "ff4f0960-1016-46fe-9062-3ef0f228fa60",
   "metadata": {},
   "outputs": [
    {
     "name": "stdout",
     "output_type": "stream",
     "text": [
      "leap year\n",
      "366 days\n"
     ]
    }
   ],
   "source": [
    "a=2024\n",
    "if a%4==0 :\n",
    "    if a%100==0:\n",
    "        if a%400 == 0:\n",
    "            print(\"leap year\")\n",
    "            print(\"366 days\")\n",
    "        else:\n",
    "            print(\"not a leap year\")\n",
    "            print(\"365 days\")\n",
    "    else:\n",
    "        print(\"leap year\")\n",
    "        print(\"366 days\")\n",
    "else:\n",
    "    print(\"not a leap year\")\n",
    "    print(\"365 days\")\n"
   ]
  },
  {
   "cell_type": "markdown",
   "id": "3548cb82-3452-4bce-8c4c-2226531ca93e",
   "metadata": {},
   "source": [
    "10) Is a number within a given range?"
   ]
  },
  {
   "cell_type": "code",
   "execution_count": 230,
   "id": "49067a85-d5e8-4b73-b9c0-871cbbe50832",
   "metadata": {},
   "outputs": [
    {
     "name": "stdout",
     "output_type": "stream",
     "text": [
      "range is between 1-10\n",
      "in range\n"
     ]
    }
   ],
   "source": [
    "a=10\n",
    "print(\"range is between 1-10\")\n",
    "if a>10 or a<1:\n",
    "    print(\"out of range\")\n",
    "    if a==10 or a==1:\n",
    "      print(\"in range\")\n",
    "else:\n",
    "    print(\"in range\")"
   ]
  },
  {
   "cell_type": "markdown",
   "id": "4d1a307b-32e0-414a-9c8a-7322ed098fe0",
   "metadata": {},
   "source": [
    "11) Convert seconds to HH:MM:SS"
   ]
  },
  {
   "cell_type": "code",
   "execution_count": 229,
   "id": "52a6c845-3b3a-4011-924c-88a5b5dde82b",
   "metadata": {},
   "outputs": [
    {
     "name": "stdout",
     "output_type": "stream",
     "text": [
      "1 hours: 1 min: 3\n"
     ]
    }
   ],
   "source": [
    "s=3663\n",
    "h = s // 3600\n",
    "#h = int(h)\n",
    "rem = s % 3600\n",
    "m = rem // 60\n",
    "ss = rem % 60\n",
    "\n",
    "print(h ,\"hours:\", m,\"min:\",ss)\n",
    "    \n"
   ]
  },
  {
   "cell_type": "markdown",
   "id": "15916d02-d82e-4dde-a080-2d6b95a097f5",
   "metadata": {},
   "source": [
    "12) Convert HH:MM:SS to seconds"
   ]
  },
  {
   "cell_type": "code",
   "execution_count": 212,
   "id": "0c0884c6-7325-402a-b860-7a5ae7ed710d",
   "metadata": {},
   "outputs": [
    {
     "name": "stdout",
     "output_type": "stream",
     "text": [
      "2280\n",
      "2336\n"
     ]
    }
   ],
   "source": [
    "h=0\n",
    "m=38\n",
    "ss=56\n",
    "if h>1:\n",
    "    print(h*3600)\n",
    "    print(m*60)\n",
    "    print(h*3600+m*60+ss)\n",
    "else:\n",
    "     print(m*60)\n",
    "     print(h*3600+m*60+ss)\n",
    "\n",
    "  "
   ]
  }
 ],
 "metadata": {
  "kernelspec": {
   "display_name": "Python 3 (ipykernel)",
   "language": "python",
   "name": "python3"
  },
  "language_info": {
   "codemirror_mode": {
    "name": "ipython",
    "version": 3
   },
   "file_extension": ".py",
   "mimetype": "text/x-python",
   "name": "python",
   "nbconvert_exporter": "python",
   "pygments_lexer": "ipython3",
   "version": "3.12.2"
  }
 },
 "nbformat": 4,
 "nbformat_minor": 5
}
