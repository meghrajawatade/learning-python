{
 "cells": [
  {
   "cell_type": "markdown",
   "id": "37ea1fd6-a65c-4622-8ff8-be9f069d9177",
   "metadata": {},
   "source": [
    "## Assignment 2: Loops"
   ]
  },
  {
   "cell_type": "markdown",
   "id": "3fecd616-6b14-412c-a896-4e0f04241b74",
   "metadata": {},
   "source": [
    "1) Read a number from the user and a character. Print the character those many times"
   ]
  },
  {
   "cell_type": "code",
   "execution_count": 28,
   "id": "d473101d-033b-474a-9ce9-4ec507bce6c6",
   "metadata": {},
   "outputs": [
    {
     "name": "stdout",
     "output_type": "stream",
     "text": [
      "enter number \n"
     ]
    },
    {
     "name": "stdin",
     "output_type": "stream",
     "text": [
      " 4\n"
     ]
    },
    {
     "name": "stdout",
     "output_type": "stream",
     "text": [
      "enter a character\n"
     ]
    },
    {
     "name": "stdin",
     "output_type": "stream",
     "text": [
      " c\n"
     ]
    },
    {
     "name": "stdout",
     "output_type": "stream",
     "text": [
      "cccc"
     ]
    }
   ],
   "source": [
    "print(\"enter number \") \n",
    "a = int (input())\n",
    "print(\"enter a character\")\n",
    "b=input()\n",
    "for i in range(a):\n",
    " print(b, end=\"\")"
   ]
  },
  {
   "cell_type": "markdown",
   "id": "69979d4d-b01f-4940-89e3-7604d089c750",
   "metadata": {},
   "source": [
    "2) Get a range (a, b) from the user. Print numbers from a to b and back down to a again"
   ]
  },
  {
   "cell_type": "code",
   "execution_count": 30,
   "id": "900ab9b2-e0eb-47bf-bc0b-51ec242489cc",
   "metadata": {},
   "outputs": [
    {
     "name": "stdout",
     "output_type": "stream",
     "text": [
      "enter a range\n"
     ]
    },
    {
     "name": "stdin",
     "output_type": "stream",
     "text": [
      " 4\n",
      " 8\n"
     ]
    },
    {
     "name": "stdout",
     "output_type": "stream",
     "text": [
      "[4, 5, 6, 7, 8, 7, 6, 5, 4]\n",
      "[]\n"
     ]
    }
   ],
   "source": [
    "print(\"enter a range\")\n",
    "a = int (input())\n",
    "b = int (input())\n",
    "m=[]\n",
    "l=[]\n",
    "for i in range(a,b,+1):\n",
    " l.append(i)\n",
    "for i in range (b,a-1,-1):\n",
    " l.append(i)\n",
    "print(l)\n",
    "print(m)"
   ]
  },
  {
   "cell_type": "markdown",
   "id": "fbb2d246-fa59-4b87-a545-bfe48339a9e0",
   "metadata": {},
   "source": [
    "3) Get a number from the user. \n",
    "Create a list containing 1 up to the number and print it"
   ]
  },
  {
   "cell_type": "code",
   "execution_count": 34,
   "id": "ad2fb9a4-4cc1-445a-910b-fb93c7ef719e",
   "metadata": {},
   "outputs": [
    {
     "name": "stdout",
     "output_type": "stream",
     "text": [
      "[1, 2, 3, 4, 5, 6, 7, 8, 9]\n"
     ]
    }
   ],
   "source": [
    "#print(\"enter the number of elements in the list\")\n",
    "# n = int(input())\n",
    "l=[]\n",
    "for i in range(1,10):\n",
    " l.append(i)\n",
    "print(l)\n"
   ]
  },
  {
   "cell_type": "code",
   "execution_count": 89,
   "id": "9edb4b7b-10a9-4639-9c71-ade487e057f6",
   "metadata": {},
   "outputs": [
    {
     "name": "stdout",
     "output_type": "stream",
     "text": [
      "[0, 1, 2, 3, 4, 5, 6, 7, 8, 9]\n"
     ]
    }
   ],
   "source": [
    "#l=[1,2,3,4,5,6,7,8,9,10]\n",
    "i=0\n",
    "l=[]\n",
    "for i in range(10):\n",
    " l.append(i)\n",
    "print(l)\n"
   ]
  },
  {
   "cell_type": "markdown",
   "id": "5277932b-8e57-47ec-90f3-ed3f9653a8a8",
   "metadata": {},
   "source": [
    "4) Create a list containing the squares of these numbers"
   ]
  },
  {
   "cell_type": "code",
   "execution_count": 74,
   "id": "e72b94ab-93cb-48ab-b696-c04f0037b929",
   "metadata": {},
   "outputs": [
    {
     "name": "stdout",
     "output_type": "stream",
     "text": [
      "[0, 1, 4, 9, 16, 25, 36, 49, 64, 81]\n"
     ]
    }
   ],
   "source": [
    "l=[1,2,3,4,5,6,7,8,9,10]\n",
    "i=0\n",
    "l = []\n",
    "for i in range(10):\n",
    " l.append(i*i)\n",
    " #print(i*i)\n",
    "print(l)"
   ]
  },
  {
   "cell_type": "markdown",
   "id": "cbbb9b20-ba41-418a-8d79-50a90c8dd250",
   "metadata": {},
   "source": [
    "5) Create a list containing the squares of odd numbers and half of the even numbers\n",
    "From one of the lists above, remove every fifth number"
   ]
  },
  {
   "cell_type": "code",
   "execution_count": 137,
   "id": "a1138ddb-3b67-4a6f-a008-30169ed74af0",
   "metadata": {},
   "outputs": [
    {
     "name": "stdout",
     "output_type": "stream",
     "text": [
      "[1, 2, 3, 4, 6, 7, 8, 9, 11, 12, 13, 14, 16, 17, 18, 19]\n"
     ]
    }
   ],
   "source": [
    "l=[]\n",
    "for i in range(0,20):\n",
    " l.append(i)\n",
    "for i in range(0,20,5):\n",
    " l.remove(i)\n",
    "print(l)\n"
   ]
  },
  {
   "cell_type": "code",
   "execution_count": 40,
   "id": "537fe07a-a5ca-45eb-be6c-ff6b83548210",
   "metadata": {},
   "outputs": [
    {
     "name": "stdout",
     "output_type": "stream",
     "text": [
      "[0, 1, 1, 9, 2, 25, 3, 49, 4, 81, 5, 121, 6, 169, 7, 225, 8, 289, 9, 361]\n"
     ]
    }
   ],
   "source": [
    "#l=[1,2,3,4,5,6,7,8,9,10]\n",
    "l = []\n",
    "for i in range(10):\n",
    "    l.append(i)\n",
    "l = []\n",
    "n = 20\n",
    "for i in range(n):\n",
    " if i%2==1:\n",
    "  l.append(i*i)\n",
    "\n",
    "\n",
    " elif i%2==0:\n",
    "    l.append(i//2)\n",
    "   \n",
    "    \n",
    "print(l)"
   ]
  },
  {
   "cell_type": "markdown",
   "id": "8772bd32-dcd2-430f-b4a0-747bb4e3036d",
   "metadata": {},
   "source": [
    "6) From one of the lists above, how many entries are multiples of 3? Of 5? Of both? Of either?"
   ]
  },
  {
   "cell_type": "code",
   "execution_count": 121,
   "id": "9f62f283-9a68-456e-afa1-fdaa0f8b1d63",
   "metadata": {},
   "outputs": [
    {
     "name": "stdout",
     "output_type": "stream",
     "text": [
      "[0, 3, 6, 9, 12, 15, 18]\n",
      "[0, 5, 10, 15]\n",
      "[0, 15]\n",
      "[0, 3, 5, 6, 9, 10, 12, 15, 18]\n"
     ]
    }
   ],
   "source": [
    "l=[]\n",
    "m=[]\n",
    "k=[]\n",
    "d=[]\n",
    "for i in range(0,20):\n",
    "    if i%3==0:\n",
    "        l.append(i)\n",
    "        \n",
    "\n",
    "    if i%5==0:\n",
    "     m.append(i)\n",
    "    if i%5==0 and i%3==0:\n",
    "        k.append(i)\n",
    "    if i%5==0 or i%3==0:\n",
    "        d.append(i)\n",
    "print(l)\n",
    "print(m)\n",
    "print(k)    \n",
    "print(d)"
   ]
  },
  {
   "cell_type": "markdown",
   "id": "89bd0f08-9e8a-4e8a-89b3-c3dc754f4b8b",
   "metadata": {},
   "source": [
    "7) Take 10 numbers from the user, add them and print their sum."
   ]
  },
  {
   "cell_type": "code",
   "execution_count": 42,
   "id": "2a256ed3-3fd2-428c-8746-638aafdc7d5e",
   "metadata": {},
   "outputs": [
    {
     "name": "stdout",
     "output_type": "stream",
     "text": [
      "[0, 1, 1, 9, 2, 25, 3, 49, 4, 81, 5, 121, 6, 169, 7, 225, 8, 289, 9, 361]\n",
      "190\n"
     ]
    }
   ],
   "source": [
    "#l=[]\n",
    "total=0\n",
    "#l=[1, 2, 3, 4, 6, 7, 8, 9, 11, 12, 13, 14, 16, 17, 18, 19, 0, 5, 10, 15]\n",
    "print(l)\n",
    "for i in range(len(l)):\n",
    " total=total+i\n",
    " l.append(total)\n",
    "print(total)    \n",
    "    "
   ]
  },
  {
   "cell_type": "code",
   "execution_count": 43,
   "id": "1b48d2c2-53e0-4cb0-829e-5653906c519a",
   "metadata": {},
   "outputs": [
    {
     "name": "stdout",
     "output_type": "stream",
     "text": [
      "[0, 1, 1, 9, 2, 25, 3, 49, 4, 81, 5, 121, 6, 169, 7, 225, 8, 289, 9, 361, 0, 1, 3, 6, 10, 15, 21, 28, 36, 45, 55, 66, 78, 91, 105, 120, 136, 153, 171, 190]\n"
     ]
    }
   ],
   "source": [
    "print(l)"
   ]
  },
  {
   "cell_type": "markdown",
   "id": "656a46d5-b52d-4296-a167-f07c6fabc06d",
   "metadata": {},
   "source": [
    "8) Print the first 10 powers of 2."
   ]
  },
  {
   "cell_type": "code",
   "execution_count": 2,
   "id": "e873f917-c25c-4cd0-94c3-eaeaf372dad0",
   "metadata": {},
   "outputs": [
    {
     "name": "stdout",
     "output_type": "stream",
     "text": [
      "[1, 2, 4, 8, 16, 32, 64, 128, 256, 512]\n"
     ]
    }
   ],
   "source": [
    "\n",
    "l=[]\n",
    "for i in range(10):\n",
    "    l.append(2**i)\n",
    "print(l)"
   ]
  },
  {
   "cell_type": "markdown",
   "id": "715f9b7f-370c-4f9d-a810-154ee258daf1",
   "metadata": {},
   "source": [
    "9) The factorial of a number is defined as n! = n * (n-1)!, and 0! = 1. Write a program to calculate and print n!"
   ]
  },
  {
   "cell_type": "code",
   "execution_count": 2,
   "id": "8924c691-47d0-4d82-8cb0-ddb621d13916",
   "metadata": {},
   "outputs": [
    {
     "name": "stdout",
     "output_type": "stream",
     "text": [
      "1 1\n",
      "1 2\n",
      "2 3\n",
      "6 4\n",
      "24 5\n",
      "120 6\n",
      "720 7\n",
      "5040 8\n",
      "40320\n"
     ]
    }
   ],
   "source": [
    "n = 8\n",
    "f = 1\n",
    "for i in range(1 , n+1):\n",
    "    print(f, i)\n",
    "    f = f * i\n",
    " \n",
    "print(f)"
   ]
  },
  {
   "cell_type": "markdown",
   "id": "73faf328-8f90-4030-927b-be7f1b2ff7f1",
   "metadata": {},
   "source": [
    "10) The nth fibonacci number is Fn = F(n-1) + F(n-2)"
   ]
  },
  {
   "cell_type": "code",
   "execution_count": 43,
   "id": "ceccb521-e23a-426a-984d-24cf21939862",
   "metadata": {},
   "outputs": [
    {
     "name": "stdout",
     "output_type": "stream",
     "text": [
      "13 7\n",
      "1 7\n",
      "1 7\n",
      "2 7\n",
      "3 7\n",
      "5 7\n",
      "8 7\n",
      "13\n"
     ]
    }
   ],
   "source": [
    "f0=0\n",
    "f1=1\n",
    "n=7\n",
    "fn1=0\n",
    "fn2=1\n",
    "for i in range (n):\n",
    "    print(fn,n)\n",
    "    fn=fn1+fn2\n",
    "    fn2=fn1\n",
    "    fn1=fn\n",
    "print(fn)"
   ]
  },
  {
   "cell_type": "code",
   "execution_count": null,
   "id": "daca8a46-d960-452f-97fe-1d862d98faab",
   "metadata": {},
   "outputs": [],
   "source": []
  }
 ],
 "metadata": {
  "kernelspec": {
   "display_name": "Python 3 (ipykernel)",
   "language": "python",
   "name": "python3"
  },
  "language_info": {
   "codemirror_mode": {
    "name": "ipython",
    "version": 3
   },
   "file_extension": ".py",
   "mimetype": "text/x-python",
   "name": "python",
   "nbconvert_exporter": "python",
   "pygments_lexer": "ipython3",
   "version": "3.12.2"
  }
 },
 "nbformat": 4,
 "nbformat_minor": 5
}
