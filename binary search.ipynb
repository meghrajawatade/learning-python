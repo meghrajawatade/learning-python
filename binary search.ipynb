{
 "cells": [
  {
   "cell_type": "code",
   "execution_count": null,
   "id": "cb5ace91-d1e0-4a7b-839f-c26dbfe2199f",
   "metadata": {},
   "outputs": [],
   "source": [
    "b = [122, 373, 388, 448, 4848, 3637, 2638, 294, 575, 488, 47]\n",
    "b.sort()\n",
    "key = 388\n",
    "start = timer.timeit()\n",
    "low = 0\n",
    "high = len(b)-1\n",
    "mid = (low + high) // 2\n",
    "\n",
    "while (low <= high):\n",
    "    print(low, mid, high)\n",
    "    \n",
    "    mid = (low + high) // 2\n",
    "    if b[mid] == key:\n",
    "        print(key)\n",
    "        print(mid)\n",
    "        break\n",
    "    elif b[mid] > key:\n",
    "        high = mid - 1\n",
    "     \n",
    "    else:\n",
    "        low = mid + 1\n",
    "     \n",
    "stop = timer.timeit()\n",
    "timeElapsed = stop - start\n",
    "print(b)\n"
   ]
  }
 ],
 "metadata": {
  "kernelspec": {
   "display_name": "Python 3 (ipykernel)",
   "language": "python",
   "name": "python3"
  },
  "language_info": {
   "codemirror_mode": {
    "name": "ipython",
    "version": 3
   },
   "file_extension": ".py",
   "mimetype": "text/x-python",
   "name": "python",
   "nbconvert_exporter": "python",
   "pygments_lexer": "ipython3",
   "version": "3.12.2"
  }
 },
 "nbformat": 4,
 "nbformat_minor": 5
}
