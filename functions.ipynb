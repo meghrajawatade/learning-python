{
 "cells": [
  {
   "cell_type": "markdown",
   "id": "e924f1b3-53f9-4e06-899d-9c4779cf1799",
   "metadata": {},
   "source": [
    "Assignment 6: Functions"
   ]
  },
  {
   "cell_type": "markdown",
   "id": "24ca026e-fb24-4f75-a103-61b74cdad005",
   "metadata": {},
   "source": [
    "1) Generate a list L of 100 random integers. Take an integer k from the user (using one of the above functions). Write a function that takes L and k and returns the index of k in L (if it exists) or None otherwise"
   ]
  },
  {
   "cell_type": "code",
   "execution_count": 118,
   "id": "5d36e22d-c1cd-4a60-a700-e6126c6a3a75",
   "metadata": {},
   "outputs": [
    {
     "name": "stdout",
     "output_type": "stream",
     "text": [
      "[43, 63, 39, 4, 66, 13, 40, 37, 36, 48]\n"
     ]
    },
    {
     "name": "stdin",
     "output_type": "stream",
     "text": [
      " 66\n"
     ]
    },
    {
     "name": "stdout",
     "output_type": "stream",
     "text": [
      "4\n",
      "found\n"
     ]
    }
   ],
   "source": [
    "import random \n",
    "def accept():\n",
    "    k = int(input())\n",
    "    return k \n",
    "    \n",
    "def rnd():  \n",
    "    l = [random.randint(0,100) for i in range(10)]\n",
    "    print(l)\n",
    "    return l\n",
    "      \n",
    "def chck(k, myl):\n",
    "    for i in range(len(myl)):\n",
    "        if k == myl[i]:\n",
    "            return i\n",
    "\n",
    "    return None\n",
    "         \n",
    "\n",
    "rn = rnd()\n",
    "ui = accept()\n",
    "f = chck(ui, rn)\n",
    "print(f)\n",
    "if(f):\n",
    "    print(\"found\")\n",
    "else:\n",
    "    print(\"not found\")"
   ]
  },
  {
   "cell_type": "markdown",
   "id": "6529345e-ebf2-4297-9261-93148188c530",
   "metadata": {},
   "source": [
    "2) Write a function that takes a list L of numbers and returns their mean, median and standard deviation"
   ]
  },
  {
   "cell_type": "code",
   "execution_count": 271,
   "id": "70f509f1-01dd-4730-aa42-0b32058df907",
   "metadata": {},
   "outputs": [
    {
     "name": "stdout",
     "output_type": "stream",
     "text": [
      " median index = 2\n",
      "variance = 2.5\n",
      "<class 'tuple'> (3.0, 3, 1.25)\n",
      " median index = 2\n",
      "variance = 2.5\n",
      "3.0 3 1.25\n"
     ]
    }
   ],
   "source": [
    "l = [1,2,3,4,5]\n",
    "\n",
    "\n",
    "def mmsd(l):\n",
    "    m = 0\n",
    "    for i in range(len(l)):\n",
    "        m = m + l[i] \n",
    "    mean = m / len(l)        \n",
    "    \n",
    "\n",
    "    l.sort()\n",
    "    median = 0\n",
    "    if len(l)%2==1:\n",
    "      k = len(l)//2\n",
    "      print(\" median index =\",k) \n",
    "      median = l[k]\n",
    "    elif len(l)%2==0:\n",
    "     f1 = len(l)//2\n",
    "     f2 = len(l)//2-1\n",
    "     print(\"median indices =\",f1,f2)\n",
    "     mv = (l[f1]+l[f2])/2\n",
    "     median = mv\n",
    "    v = 0\n",
    "    for i in range(len(l)):\n",
    "        v = v + (l[i] - mean)**2 \n",
    "    mm = v/(len(l)-1)\n",
    "    print(\"variance =\",mm)\n",
    "    sd = mm**1/2\n",
    "    \n",
    "    return mean, median, sd\n",
    "    \n",
    "    \n",
    "\n",
    "t = mmsd(l)\n",
    "print(type(t), t)\n",
    "x1, x2, x3 = mmsd(l)\n",
    "print(x1, x2, x3)"
   ]
  },
  {
   "cell_type": "markdown",
   "id": "792439e0-fcca-474b-9db3-be7047bc3438",
   "metadata": {},
   "source": [
    "3) Write a function that takes three numbers and returns True or False if the three numbers form a pythagorean triple or not"
   ]
  },
  {
   "cell_type": "code",
   "execution_count": 15,
   "id": "aa2f7a56-0065-4040-8b52-7f4a80c3fe3f",
   "metadata": {},
   "outputs": [
    {
     "name": "stdout",
     "output_type": "stream",
     "text": [
      "False\n",
      "True\n"
     ]
    }
   ],
   "source": [
    "\n",
    "def pt(l):\n",
    "    l.sort()\n",
    "    if l[2]**2 == l[1]**2+l[0]**2:\n",
    "      return True \n",
    "    else:\n",
    "      return False\n",
    "x = pt([2,3,5])\n",
    "print(x)\n",
    "print(pt([13,12,5]))\n"
   ]
  },
  {
   "cell_type": "markdown",
   "id": "c754ff57-e2f2-4804-8688-56a12c28705e",
   "metadata": {},
   "source": [
    "4) Write a function that calculates the number of ways of choosing k items from n"
   ]
  },
  {
   "cell_type": "code",
   "execution_count": 51,
   "id": "24a55c7e-de76-4e42-a824-e465ebd68a81",
   "metadata": {},
   "outputs": [
    {
     "name": "stdout",
     "output_type": "stream",
     "text": [
      "24\n"
     ]
    },
    {
     "data": {
      "text/plain": [
       "6.0"
      ]
     },
     "execution_count": 51,
     "metadata": {},
     "output_type": "execute_result"
    }
   ],
   "source": [
    "\n",
    "\n",
    "def fact(n):\n",
    "  f = 1\n",
    "  for i in range(1 , n+1):\n",
    "    f = f * i\n",
    " \n",
    "  return f\n",
    "\n",
    "def ktm(n,k):\n",
    "    ff = fact(n)\n",
    "    print(ff)\n",
    "    x = ff/(fact(n-k)*fact(k))\n",
    "    return x\n",
    "ktm(4,2)\n"
   ]
  },
  {
   "cell_type": "markdown",
   "id": "9f33e49f-5478-4770-9010-4b7076975f07",
   "metadata": {},
   "source": [
    "5) Write a function that prints the first n rows of Pascal’s Triangle"
   ]
  },
  {
   "cell_type": "code",
   "execution_count": 90,
   "id": "22f3d57c-293b-4602-89ca-64d6dc143d8c",
   "metadata": {},
   "outputs": [
    {
     "name": "stdout",
     "output_type": "stream",
     "text": [
      "[1]\n",
      "[1, 1]\n",
      "[1, 2, 1]\n",
      "[1, 3, 3, 1]\n",
      "[1, 4, 6, 4, 1]\n",
      "[1, 5, 10, 10, 5, 1]\n",
      "[1, 6, 15, 20, 15, 6, 1]\n",
      "[1, 7, 21, 35, 35, 21, 7, 1]\n",
      "[1, 8, 28, 56, 70, 56, 28, 8, 1]\n",
      "[1, 9, 36, 84, 126, 126, 84, 36, 9, 1]\n"
     ]
    }
   ],
   "source": [
    "\n",
    "def pst(n):\n",
    "    p = [[1], [1, 1]]\n",
    "    for i in range(2, n):\n",
    "        p.append([])\n",
    "        p[i].append(1)\n",
    "        \n",
    "        for j in range(1,i):\n",
    "           p[i].append(p[i-1][j-1]+p[i-1][j])\n",
    "        p[i].append(1)\n",
    "    return p\n",
    "l = pst(10)\n",
    "for i in l:\n",
    "    print(i)"
   ]
  },
  {
   "cell_type": "markdown",
   "id": "5cf7203a-dc28-41ac-be12-dfa1744bad35",
   "metadata": {},
   "source": [
    "6) Write a function that calculates sin(x), cos(x) and e^x using the Taylor Series expansions"
   ]
  },
  {
   "cell_type": "code",
   "execution_count": 78,
   "id": "f04c1b1e-0272-4c1a-b48b-122f69ca74c8",
   "metadata": {},
   "outputs": [
    {
     "name": "stdout",
     "output_type": "stream",
     "text": [
      "0.5984721441039565 0.5984721441039564\n",
      "1.1102230246251565e-16\n",
      "number of iterations =  20\n",
      "error =  1.8550955722214991e-16\n"
     ]
    }
   ],
   "source": [
    "import math\n",
    "import numpy as np\n",
    "import matplotlib.pyplot as plt \n",
    "\n",
    "factorial = [0] * 50\n",
    "factorial[0] = 1\n",
    "factorial[1] = 1\n",
    "\n",
    "def fact(n):\n",
    "    if factorial[n] != 0:\n",
    "      return factorial[n]\n",
    "\n",
    "    factorial[n] = n * fact(n - 1)\n",
    "    return factorial[n]\n",
    "\n",
    "def ts(x, n):\n",
    "    y = 0\n",
    "    counter = 0\n",
    "    for i in range(n):\n",
    "        y += (-1)**i * x**(2*i+1)/fact(2*i+1)\n",
    "        counter += 1\n",
    "    return y, counter\n",
    "\n",
    "print(v, math.sin(x))\n",
    "print(v - math.sin(x))\n",
    "err = (v - math.sin(x))/math.sin(x)\n",
    "print(\"number of iterations = \", c)\n",
    "print(\"error = \", err)\n",
    "    "
   ]
  },
  {
   "cell_type": "code",
   "execution_count": 39,
   "id": "f50953b7-b136-4bd1-852e-79b9a053a13f",
   "metadata": {},
   "outputs": [
    {
     "data": {
      "text/plain": [
       "[<matplotlib.lines.Line2D at 0x12fafa7b0>]"
      ]
     },
     "execution_count": 39,
     "metadata": {},
     "output_type": "execute_result"
    },
    {
     "data": {
      "image/png": "[encoded data removed]",
      "text/plain": [
       "<Figure size 640x480 with 1 Axes>"
      ]
     },
     "metadata": {},
     "output_type": "display_data"
    }
   ],
   "source": [
    "import math\n",
    "import matplotlib.pyplot as plt \n",
    "\n",
    "factorial = [0] * 50\n",
    "factorial[0] = 1\n",
    "factorial[1] = 1\n",
    "\n",
    "def fact(n):\n",
    "    if factorial[n] != 0:\n",
    "      return factorial[n]\n",
    "\n",
    "    factorial[n] = n * fact(n - 1)\n",
    "    return factorial[n]\n",
    "\n",
    "def fs(x):\n",
    "    l = []\n",
    "    for i in range(20):\n",
    "            l.append((-1)**i * x**(2*i+1)/fact(2*i+1))\n",
    "    return l\n",
    "        \n",
    "            \n",
    "       \n",
    "terms = fs(math.pi/2)\n",
    "plt.yscale('log')\n",
    "plt.plot(terms, 'o')\n",
    "            \n",
    "\n",
    "            \n",
    "    "
   ]
  },
  {
   "cell_type": "code",
   "execution_count": 51,
   "id": "acf98064-27d4-4702-abe7-1e9cdc8428a2",
   "metadata": {},
   "outputs": [
    {
     "name": "stdout",
     "output_type": "stream",
     "text": [
      "[1.5707963267948966, -0.6459640975062462, 0.07969262624616703, -0.004681754135318687, 0.00016044118478735975, -3.598843235212084e-06, 5.692172921967924e-08, -6.688035109811464e-10, 6.066935731106192e-12, -4.377065467313739e-14, 2.571422892860472e-16, -1.2538995405354564e-18, 5.156455176580277e-21, -1.8123993128488855e-23, 5.507285786522379e-26, -1.4611487106644664e-28, 3.4140529700331576e-31, -7.078855508107446e-34, 1.3112894796826742e-36, -2.1831829318114536e-39]\n",
      "[1.5707963267948966, 0.9248322292886504, 1.0045248555348174, 0.9998431013994987, 1.0000035425842861, 0.999999943741051, 1.0000000006627803, 0.9999999999939768, 1.0000000000000437, 1.0, 1.0000000000000002, 1.0000000000000002, 1.0000000000000002, 1.0000000000000002, 1.0000000000000002, 1.0000000000000002, 1.0000000000000002, 1.0000000000000002, 1.0000000000000002, 1.0000000000000002]\n"
     ]
    }
   ],
   "source": [
    "print(terms)\n",
    "print(partialSums)"
   ]
  },
  {
   "cell_type": "code",
   "execution_count": 50,
   "id": "5ac50832-5e74-4e70-94c9-9f65144eb783",
   "metadata": {},
   "outputs": [
    {
     "data": {
      "text/plain": [
       "[<matplotlib.lines.Line2D at 0x13a205880>]"
      ]
     },
     "execution_count": 50,
     "metadata": {},
     "output_type": "execute_result"
    },
    {
     "data": {
      "image/png": "[encoded data removed]",
      "text/plain": [
       "<Figure size 640x480 with 1 Axes>"
      ]
     },
     "metadata": {},
     "output_type": "display_data"
    }
   ],
   "source": [
    "partialSums = []\n",
    "s = 0\n",
    "for i, t in enumerate(terms):\n",
    "    s = s + t\n",
    "    partialSums.append(s)\n",
    "\n",
    "plt.plot(partialSums)"
   ]
  },
  {
   "cell_type": "code",
   "execution_count": 85,
   "id": "139f22ed-39f1-4c03-94e8-bc82a0a06c9d",
   "metadata": {},
   "outputs": [
    {
     "data": {
      "text/plain": [
       "[<matplotlib.lines.Line2D at 0x13a87e7b0>]"
      ]
     },
     "execution_count": 85,
     "metadata": {},
     "output_type": "execute_result"
    },
    {
     "data": {
      "image/png": "[encoded data removed]",
      "text/plain": [
       "<Figure size 640x480 with 1 Axes>"
      ]
     },
     "metadata": {},
     "output_type": "display_data"
    }
   ],
   "source": [
    "error5 = []\n",
    "error10 = []\n",
    "error20 = []\n",
    "for x in np.arange(0.001, 4, 0.1):\n",
    "    v5, c = ts(x, 5)\n",
    "    v10, c = ts(x, 10)\n",
    "    v20, c = ts(x, 20)\n",
    "    error5.append((v5 - math.sin(x))/math.sin(x))\n",
    "    error10.append((v10 - math.sin(x))/math.sin(x))\n",
    "    error20.append((v20 - math.sin(x))/math.sin(x))\n",
    "plt.plot(error5)\n",
    "plt.plot(error10)\n",
    "plt.plot(error20)"
   ]
  },
  {
   "cell_type": "code",
   "execution_count": 117,
   "id": "0c086c44-e592-4d33-a42c-9aecc121529b",
   "metadata": {},
   "outputs": [
    {
     "name": "stdout",
     "output_type": "stream",
     "text": [
      "0.6918875 0.7073882691671998 -0.01550076916719978\n"
     ]
    }
   ],
   "source": [
    "import math\n",
    "import numpy as np\n",
    "import matplotlib.pyplot as plt\n",
    "\n",
    "factorial = [0] * 50\n",
    "factorial[0] = 1\n",
    "factorial[1] = 1\n",
    "\n",
    "def fact(n):\n",
    "    if factorial[n] != 0:\n",
    "        return factorial[n]\n",
    "\n",
    "    factorial[n] = n * fact(n - 1)\n",
    "    return factorial[n]\n",
    "\n",
    "def cos(x,n):\n",
    "    y = 0\n",
    "    for i in range(n):\n",
    "        term = ((-1)**i)*((x**(i*2))/fact(i*2))\n",
    "        y = y + term\n",
    "        #print(i, \": \", term, \" : \", y)\n",
    "    return y\n",
    "angle = 3.14/4\n",
    "p = cos(angle, 2)\n",
    "print(p, math.cos(angle), p - math.cos(angle))\n",
    "#err = p-\n",
    "\n",
    "    \n"
   ]
  },
  {
   "cell_type": "code",
   "execution_count": 118,
   "id": "b911f942-2ffa-414f-bebf-5fe5dee6bd49",
   "metadata": {},
   "outputs": [
    {
     "data": {
      "text/plain": [
       "[<matplotlib.lines.Line2D at 0x13ac7c5f0>]"
      ]
     },
     "execution_count": 118,
     "metadata": {},
     "output_type": "execute_result"
    },
    {
     "data": {
      "image/png": "[encoded data removed]",
      "text/plain": [
       "<Figure size 640x480 with 1 Axes>"
      ]
     },
     "metadata": {},
     "output_type": "display_data"
    }
   ],
   "source": [
    "err5 = []\n",
    "err10 = []\n",
    "err20 = []\n",
    "for x in np.arange(0.001, 4, 0.1):\n",
    "    v5 = cos(x, 5)\n",
    "    v10 = cos(x, 10)\n",
    "    v20 = cos(x, 20)\n",
    "    err5.append((v5 - math.cos(x))/math.cos(x))\n",
    "    err10.append((v10 - math.cos(x))/math.cos(x))\n",
    "    err20.append((v20 - math.cos(x))/math.cos(x))\n",
    "plt.plot(err5)\n",
    "plt.plot(err10)\n",
    "plt.plot(err20)"
   ]
  },
  {
   "cell_type": "code",
   "execution_count": 119,
   "id": "34c717d8-8d13-4bf9-97d7-4bdff3c8ccb6",
   "metadata": {},
   "outputs": [
    {
     "data": {
      "text/plain": [
       "[<matplotlib.lines.Line2D at 0x13acca330>]"
      ]
     },
     "execution_count": 119,
     "metadata": {},
     "output_type": "execute_result"
    },
    {
     "data": {
      "image/png": "[encoded data removed]",
      "text/plain": [
       "<Figure size 640x480 with 1 Axes>"
      ]
     },
     "metadata": {},
     "output_type": "display_data"
    }
   ],
   "source": [
    "plt.plot(err10)\n",
    "plt.plot(err20)"
   ]
  },
  {
   "cell_type": "code",
   "execution_count": 120,
   "id": "1bbe6b6f-2bf2-4846-8698-89995fe31c7d",
   "metadata": {},
   "outputs": [
    {
     "data": {
      "text/plain": [
       "[<matplotlib.lines.Line2D at 0x13ad2fe30>]"
      ]
     },
     "execution_count": 120,
     "metadata": {},
     "output_type": "execute_result"
    },
    {
     "data": {
      "image/png": "[encoded data removed]",
      "text/plain": [
       "<Figure size 640x480 with 1 Axes>"
      ]
     },
     "metadata": {},
     "output_type": "display_data"
    }
   ],
   "source": [
    "\n",
    "plt.plot(err20)"
   ]
  },
  {
   "cell_type": "code",
   "execution_count": 137,
   "id": "672ce170-469c-4b19-bf9c-829d2a79da1c",
   "metadata": {},
   "outputs": [
    {
     "name": "stdout",
     "output_type": "stream",
     "text": [
      "148.4131078683383 148.4131591025766\n",
      "-5.1234238299002755e-05\n"
     ]
    }
   ],
   "source": [
    "import math\n",
    "import numpy as np\n",
    "import matplotlib.pyplot as plt\n",
    "\n",
    "factorial = [0] * 50\n",
    "factorial[0] = 1\n",
    "factorial[1] = 1\n",
    "\n",
    "def fact(n):\n",
    "    if factorial[n] != 0:\n",
    "        return factorial[n]\n",
    "\n",
    "    factorial[n] = n * fact(n - 1)\n",
    "    return factorial[n]\n",
    "\n",
    "\n",
    "def ex(x,n):\n",
    "    y = 0\n",
    "    for i in range(n):\n",
    "        t = (x**i)/(fact(i))\n",
    "        y = y + t\n",
    "    return y\n",
    "a = 5\n",
    "j = ex(a, 20)\n",
    "print(j, math.exp(a))\n",
    "print(j - math.exp(a))"
   ]
  },
  {
   "cell_type": "markdown",
   "id": "afe5d49a-775b-49ce-9375-3259a4750f25",
   "metadata": {},
   "source": [
    "7) Implement Euclid’s GCD algorithm – recursively!"
   ]
  },
  {
   "cell_type": "code",
   "execution_count": 147,
   "id": "b0734669-4493-4470-bb60-679738e939a6",
   "metadata": {},
   "outputs": [
    {
     "name": "stdout",
     "output_type": "stream",
     "text": [
      "3\n"
     ]
    }
   ],
   "source": [
    "def gcd(a,b):   \n",
    "    if b == 0:\n",
    "        return a \n",
    "    return gcd(b, a % b)\n",
    "\n",
    "f = gcd(99,96)\n",
    "print(f)\n",
    "        "
   ]
  }
 ],
 "metadata": {
  "kernelspec": {
   "display_name": "Python 3 (ipykernel)",
   "language": "python",
   "name": "python3"
  },
  "language_info": {
   "codemirror_mode": {
    "name": "ipython",
    "version": 3
   },
   "file_extension": ".py",
   "mimetype": "text/x-python",
   "name": "python",
   "nbconvert_exporter": "python",
   "pygments_lexer": "ipython3",
   "version": "3.12.2"
  }
 },
 "nbformat": 4,
 "nbformat_minor": 5
}
