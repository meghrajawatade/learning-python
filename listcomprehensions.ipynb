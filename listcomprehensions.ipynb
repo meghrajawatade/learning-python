{
 "cells": [
  {
   "cell_type": "markdown",
   "id": "244840e3-417f-49c6-8062-305e85ae71fc",
   "metadata": {},
   "source": [
    "Assignment 3: Comprehensions"
   ]
  },
  {
   "cell_type": "markdown",
   "id": "07f0d22f-88cb-4923-b98b-7d71e03b6e6f",
   "metadata": {},
   "source": [
    "1) Create a list containing 1 up to the number and print it"
   ]
  },
  {
   "cell_type": "code",
   "execution_count": 7,
   "id": "d2b8f726-79fa-41d5-bdf4-66f875cbfa56",
   "metadata": {},
   "outputs": [
    {
     "name": "stdout",
     "output_type": "stream",
     "text": [
      "[1, 2, 3, 4, 5, 6, 7, 8, 9, 10, 11, 12, 13, 14, 15, 16, 17, 18, 19, 20, 21, 22, 23, 24, 25, 26, 27, 28, 29, 30, 31, 32, 33, 34, 35, 36, 37, 38, 39, 40, 41, 42, 43, 44, 45, 46, 47, 48, 49, 50, 51, 52, 53, 54, 55, 56, 57, 58, 59, 60, 61, 62, 63, 64, 65, 66]\n"
     ]
    }
   ],
   "source": [
    "n = 66\n",
    "l = [ i for i in range( 1, n+1, 1 )]\n",
    "print(l)"
   ]
  },
  {
   "cell_type": "markdown",
   "id": "d715d0ca-8098-46c9-8d12-cd787f12fe7f",
   "metadata": {},
   "source": [
    "2) Create a list containing the squares of these numbers"
   ]
  },
  {
   "cell_type": "code",
   "execution_count": 23,
   "id": "aa8d1bb6-3e78-44b9-a50b-da50b0520765",
   "metadata": {},
   "outputs": [
    {
     "name": "stdout",
     "output_type": "stream",
     "text": [
      "[0, 1, 4, 9, 16, 25, 36, 49, 64, 81, 100, 121, 144, 169, 196, 225, 256, 289, 324, 361, 400, 441, 484, 529, 576, 625, 676, 729, 784, 841, 900, 961, 1024, 1089, 1156, 1225, 1296, 1369, 1444, 1521, 1600, 1681, 1764, 1849, 1936, 2025, 2116, 2209, 2304, 2401, 2500, 2601, 2704, 2809, 2916, 3025, 3136, 3249, 3364, 3481, 3600, 3721, 3844, 3969, 4096, 4225]\n"
     ]
    }
   ],
   "source": [
    "\n",
    "m = [1, 2, 3, 4, 5, 6, 7, 8, 9, 10, 11, 12, 13, 14, 15, 16, 17, 18, 19, 20, 21, 22, 23, 24, 25, 26, 27, 28, 29, 30, 31, 32, 33, 34, 35, 36, 37, 38, 39, 40, 41, 42, 43, 44, 45, 46, 47, 48, 49, 50, 51, 52, 53, 54, 55, 56, 57, 58, 59, 60, 61, 62, 63, 64, 65, 66]\n",
    "c = [m**2 for m in  range(len(m))]\n",
    "\n",
    "print(c)"
   ]
  },
  {
   "cell_type": "markdown",
   "id": "8e2f9071-5e2c-49f6-b7f1-dbe11b4dd714",
   "metadata": {},
   "source": [
    "3) Create a list containing the squares of odd numbers and half of the even numbers"
   ]
  },
  {
   "cell_type": "code",
   "execution_count": 33,
   "id": "110485af-4155-478b-ad29-1abe248d7bae",
   "metadata": {},
   "outputs": [
    {
     "name": "stdout",
     "output_type": "stream",
     "text": [
      "[0, 1, 1, 9, 2, 25, 3, 49, 4, 81, 5, 121, 6, 169, 7, 225, 8, 289, 9, 361, 10, 441, 11, 529, 12, 625, 13, 729, 14, 841, 15, 961, 16, 1089, 17, 1225, 18, 1369, 19, 1521, 20, 1681, 21, 1849, 22, 2025, 23, 2209, 24, 2401, 25, 2601, 26, 2809, 27, 3025, 28, 3249, 29, 3481, 30, 3721, 31, 3969, 32, 4225]\n"
     ]
    }
   ],
   "source": [
    "m = [1, 2, 3, 4, 5, 6, 7, 8, 9, 10, 11, 12, 13, 14, 15, 16, 17, 18, 19, 20, 21, 22, 23, 24, 25, 26, 27, 28, 29, 30, 31, 32, 33, 34, 35, 36, 37, 38, 39, 40, 41, 42, 43, 44, 45, 46, 47, 48, 49, 50, 51, 52, 53, 54, 55, 56, 57, 58, 59, 60, 61, 62, 63, 64, 65, 66]\n",
    "c = [m//2 if m%2==0 else (m**2) for m in range(len(m))]\n",
    "print(c)"
   ]
  },
  {
   "cell_type": "markdown",
   "id": "f57a0a4f-8584-490f-b8d6-609f2865f9eb",
   "metadata": {},
   "source": [
    "4) Create a list containing \n",
    "- the numbers 0.1, 0.2, 0.3 … upto 1.0\n",
    "- The numbers 0.01, 0.02, 0.03 … upto 1.0"
   ]
  },
  {
   "cell_type": "code",
   "execution_count": 28,
   "id": "7905ed00-675d-4dab-af63-ff1d62cce49b",
   "metadata": {},
   "outputs": [
    {
     "name": "stdout",
     "output_type": "stream",
     "text": [
      "[0.0, 0.1, 0.2, 0.3, 0.4, 0.5, 0.6, 0.7, 0.8, 0.9, 1.0]\n"
     ]
    }
   ],
   "source": [
    "\n",
    "n = 10\n",
    "l = [i/10  for i in range(0,n+1)]\n",
    "\n",
    "print(l)"
   ]
  },
  {
   "cell_type": "code",
   "execution_count": 62,
   "id": "e0997e64-758e-4a1e-8aa9-a76337afb076",
   "metadata": {},
   "outputs": [
    {
     "name": "stdout",
     "output_type": "stream",
     "text": [
      "[0.0, 0.01, 0.02, 0.03, 0.04, 0.05, 0.06, 0.07, 0.08, 0.09, 0.1]\n"
     ]
    }
   ],
   "source": [
    "n = 10\n",
    "l = [i/100  for i in range(0,n+1)]\n",
    "\n",
    "print(l)"
   ]
  },
  {
   "cell_type": "markdown",
   "id": "e62d9bc9-3c57-4988-9251-5ad60db08de2",
   "metadata": {},
   "source": [
    "5) Import the math library. You can use math.sin() and math.cos() to calculate the sin and cos of the argument. Create a list of sin and cos of numbers from 0.1 … 1.0 and 0.01 … 1.0\n",
    "tan() is easily calculated using tan(x) = sin(x) / cos(x). Create a list of tan() for numbers from 0.1 … 1.0 and 0.01 … 1.0"
   ]
  },
  {
   "cell_type": "code",
   "execution_count": 38,
   "id": "b462fbbb-bece-48b6-9a2b-d473391af6ed",
   "metadata": {},
   "outputs": [
    {
     "name": "stdout",
     "output_type": "stream",
     "text": [
      "0.0 0.0\n",
      "<class 'tuple'>\n",
      "0.01 0.009999833334166664\n",
      "<class 'tuple'>\n",
      "0.02 0.01999866669333308\n",
      "<class 'tuple'>\n",
      "0.03 0.02999550020249566\n",
      "<class 'tuple'>\n",
      "0.04 0.03998933418663416\n",
      "<class 'tuple'>\n",
      "0.05 0.04997916927067833\n",
      "<class 'tuple'>\n",
      "0.06 0.059964006479444595\n",
      "<class 'tuple'>\n",
      "0.07 0.06994284733753277\n",
      "<class 'tuple'>\n",
      "0.08 0.0799146939691727\n",
      "<class 'tuple'>\n",
      "0.09 0.08987854919801104\n",
      "<class 'tuple'>\n",
      "0.1 0.09983341664682815\n",
      "<class 'tuple'>\n",
      "0.0 0.0 1.0 0.0\n",
      "<class 'float'>\n",
      "0.01 0.009999833334166664 0.9999500004166653 0.018507848709065317\n",
      "<class 'float'>\n",
      "0.02 0.01999866669333308 0.9998000066665778 -0.04805675530124466\n",
      "<class 'float'>\n",
      "0.03 0.02999550020249566 0.9995500337489875 -0.03029871469278585\n",
      "<class 'float'>\n",
      "0.04 0.03998933418663416 0.9992001066609779 -0.06117910878377296\n",
      "<class 'float'>\n",
      "0.05 0.04997916927067833 0.9987502603949663 0.17619256930232455\n",
      "<class 'float'>\n",
      "0.06 0.059964006479444595 0.9982005399352042 0.06245142899457348\n",
      "<class 'float'>\n",
      "0.07 0.06994284733753277 0.9975510002532796 0.0927744239184658\n",
      "<class 'float'>\n",
      "0.08 0.0799146939691727 0.9968017063026194 -0.5492417553269446\n",
      "<class 'float'>\n",
      "0.09 0.08987854919801104 0.9959527330119943 -0.09864511470851256\n",
      "<class 'float'>\n",
      "0.1 0.09983341664682815 0.9950041652780258 -0.11898081771015707\n",
      "<class 'float'>\n"
     ]
    }
   ],
   "source": [
    "import math\n",
    "n = 10\n",
    "a = [0.0, 0.01, 0.02, 0.03, 0.04, 0.05, 0.06, 0.07, 0.08, 0.09, 0.1]\n",
    "l = [math.sin(i/100)  for i in range(0,n+1)]\n",
    "c = [math.cos(i/100)  for i in range(0,n+1)]\n",
    "t = [math.sin(i/100)/math.cos(i) for i in range(0,n+1)]\n",
    "for element  in zip(a,l,c,t):\n",
    "    print(element[0], element[1])\n",
    "    print(type(element))\n",
    "for e1, e2, e3, e4  in zip(a,l,c,t):\n",
    "    print(e1, e2, e3, e4)\n",
    "    print(type(e1))"
   ]
  },
  {
   "cell_type": "markdown",
   "id": "b00bdfd7-55bd-45d2-97c8-3bbf01b50748",
   "metadata": {},
   "source": [
    "6) Calculate take the square of the list of sin and cos and create another list containing their sum, and another list containing the sum of their squares"
   ]
  },
  {
   "cell_type": "code",
   "execution_count": 20,
   "id": "44cd583b-d714-4451-84ca-201943a69e29",
   "metadata": {},
   "outputs": [
    {
     "name": "stdout",
     "output_type": "stream",
     "text": [
      "[1.0, 1.3817732906760363, 0.4931505902785393, -0.8488724885405782, -1.4104461161715403, -0.6752620891999122, 0.6807547884514401, 1.4108888530620938, 0.8438582128147682, -0.49901177664292035, -1.383092639965822]\n",
      "[1.0, 1.0, 1.0, 0.9999999999999999, 1.0, 0.9999999999999999, 0.9999999999999999, 0.9999999999999999, 1.0, 0.9999999999999999, 1.0]\n"
     ]
    }
   ],
   "source": [
    "import math\n",
    "n = 10\n",
    "l = [math.sin(i)  for i in range(0,n+1)]\n",
    "c = [math.cos(i)  for i in range(0,n+1)]\n",
    "#print(l)\n",
    "#print(c)\n",
    "s = [a + b for a,b in zip(l,c)]\n",
    "print(s)\n",
    "m = [(math.sin(i))**2  for i in range(0,n+1)]\n",
    "v = [(math.cos(i))**2  for i in range(0,n+1)]\n",
    "ss = [q + k for q,k in zip(m,v)]\n",
    "print(ss)"
   ]
  },
  {
   "cell_type": "code",
   "execution_count": null,
   "id": "538542d1-b441-4fc1-8064-a2119c5b9e0a",
   "metadata": {},
   "outputs": [],
   "source": []
  }
 ],
 "metadata": {
  "kernelspec": {
   "display_name": "Python 3 (ipykernel)",
   "language": "python",
   "name": "python3"
  },
  "language_info": {
   "codemirror_mode": {
    "name": "ipython",
    "version": 3
   },
   "file_extension": ".py",
   "mimetype": "text/x-python",
   "name": "python",
   "nbconvert_exporter": "python",
   "pygments_lexer": "ipython3",
   "version": "3.12.2"
  }
 },
 "nbformat": 4,
 "nbformat_minor": 5
}
