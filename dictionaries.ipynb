{
 "cells": [
  {
   "cell_type": "code",
   "execution_count": 2,
   "id": "b79feaa7-02cc-466d-a1d3-dbe9b9af805b",
   "metadata": {},
   "outputs": [
    {
     "data": {
      "text/plain": [
       "{'a': 1, 'b': 2, 'c': 3}"
      ]
     },
     "execution_count": 2,
     "metadata": {},
     "output_type": "execute_result"
    }
   ],
   "source": [
    "d = {'a':1 ,'b':2,'c':3}\n",
    "d"
   ]
  },
  {
   "cell_type": "code",
   "execution_count": 3,
   "id": "0648d446-2978-4b19-91c4-e0a6a7428191",
   "metadata": {},
   "outputs": [
    {
     "name": "stdout",
     "output_type": "stream",
     "text": [
      "1\n"
     ]
    }
   ],
   "source": [
    "print(d['a'])"
   ]
  },
  {
   "cell_type": "code",
   "execution_count": 22,
   "id": "c5c6a8d8-f6ca-42b7-a104-d7c2660caf73",
   "metadata": {},
   "outputs": [
    {
     "name": "stdout",
     "output_type": "stream",
     "text": [
      "[6.9014744618235335, 6.08970224009951, 6.134559887692892, 5.257856364403988, 1.8623550689915505, 2.774419861492782, 8.564776129626411, 2.325125072389966, 8.009770929946853, 3.5715127801335202] [0.5796418906962222, -0.1922781290905698, -0.1480788462662289, -0.8548848970581903, 0.9577969857822646, 0.35897810702276195, 0.7578437576002888, 0.7287313821124365, 0.9878893714365943, -0.4167981988634579]\n",
      "{6.9014744618235335: 0.5796418906962222, 6.08970224009951: -0.1922781290905698, 6.134559887692892: -0.1480788462662289, 5.257856364403988: -0.8548848970581903, 1.8623550689915505: 0.9577969857822646, 2.774419861492782: 0.35897810702276195, 8.564776129626411: 0.7578437576002888, 2.325125072389966: 0.7287313821124365, 8.009770929946853: 0.9878893714365943, 3.5715127801335202: -0.4167981988634579}\n"
     ]
    }
   ],
   "source": [
    "import math\n",
    "import random\n",
    "a = []\n",
    "b = []\n",
    "for i in range(10):\n",
    "    m = random.uniform(1,10)\n",
    "    a.append(m)\n",
    "    b.append(math.sin(m))\n",
    "print(a, b)\n",
    "l = {x:y for x,y in zip(a,b)}\n",
    "print(l)"
   ]
  },
  {
   "cell_type": "code",
   "execution_count": 6,
   "id": "f6ed3c20-5aa8-4e19-a8ee-0c4bf76d5e1b",
   "metadata": {},
   "outputs": [
    {
     "name": "stdout",
     "output_type": "stream",
     "text": [
      "{'a': 1, 'b': 2, 'c': 3} 2\n"
     ]
    },
    {
     "data": {
      "text/plain": [
       "{'b': 2}"
      ]
     },
     "execution_count": 6,
     "metadata": {},
     "output_type": "execute_result"
    }
   ],
   "source": [
    "def rev(d, t):\n",
    "    print(d, t)\n",
    "    a = {key:value for key, value in d.items() if value == t}\n",
    "    return a\n",
    "\n",
    "rev(d, 2)"
   ]
  },
  {
   "cell_type": "code",
   "execution_count": 38,
   "id": "51879b8c-2917-482d-a57e-69ee630e48f9",
   "metadata": {},
   "outputs": [
    {
     "name": "stdout",
     "output_type": "stream",
     "text": [
      "a 1\n",
      "b 2\n",
      "c 3\n"
     ]
    }
   ],
   "source": [
    "for k, v in zip(d.keys(), d.values()):\n",
    "    print(k, v)"
   ]
  },
  {
   "cell_type": "code",
   "execution_count": 84,
   "id": "d102c154-6dc5-4255-9196-60ef7e51e8a1",
   "metadata": {},
   "outputs": [],
   "source": [
    "a = {'a1':10,'a2':20,'a3':30,'b2':45}\n",
    "b = {'b1':100,'b2':200,'b3':300,'a1':40}"
   ]
  },
  {
   "cell_type": "code",
   "execution_count": 95,
   "id": "e48b61c9-d222-432c-805c-434091a1a312",
   "metadata": {},
   "outputs": [
    {
     "name": "stdout",
     "output_type": "stream",
     "text": [
      "{'a1': 40, 'a2': 20, 'a3': 30, 'b2': 200, 'b1': 100, 'b3': 300}\n"
     ]
    }
   ],
   "source": [
    "def add(d1, d2):\n",
    "    d3 = {}\n",
    "    for k, v in d1.items():\n",
    "        d3[k] = v\n",
    "    for k, v in d2.items():\n",
    "        d3[k] = v\n",
    "    return d3\n",
    "\n",
    "c = add(a, b)\n",
    "print(c)\n",
    "\n",
    "   "
   ]
  },
  {
   "cell_type": "code",
   "execution_count": 98,
   "id": "a62f7326-c97c-448e-9b5a-d37177e2f463",
   "metadata": {},
   "outputs": [
    {
     "name": "stdout",
     "output_type": "stream",
     "text": [
      "{'a1': 999, 'a2': 20, 'a3': 30, 'b2': 200, 'b1': 100, 'b3': 300, 'an': 88}\n"
     ]
    }
   ],
   "source": [
    "c['an'] = 88\n",
    "print(c)"
   ]
  },
  {
   "cell_type": "code",
   "execution_count": 99,
   "id": "aa510eb1-6c91-486e-a920-d56cf1e580b2",
   "metadata": {},
   "outputs": [
    {
     "name": "stdout",
     "output_type": "stream",
     "text": [
      "{'a1': 10, 'a2': 20, 'a3': 30, 'b2': 45, 'b1': 100, 'b3': 300, 'an': 88}\n"
     ]
    }
   ],
   "source": [
    "d = add(c, a)\n",
    "print(d)"
   ]
  },
  {
   "cell_type": "code",
   "execution_count": 40,
   "id": "d9733f39-8f51-41e8-8898-17c0475ab7d6",
   "metadata": {},
   "outputs": [
    {
     "name": "stdout",
     "output_type": "stream",
     "text": [
      "{'a1': 50, 'a2': 20, 'a3': 30, 'b2': 245, 'b1': 100, 'b3': 300}\n"
     ]
    }
   ],
   "source": [
    "def comb(a,b):\n",
    "    c = {}\n",
    "    for key in a:\n",
    "        c[key] = a[key] \n",
    "    for key in b:\n",
    "        if key in c:\n",
    "            c[key] = c[key] + b[key]\n",
    "        else:\n",
    "            c[key] = b[key]\n",
    "    return c\n",
    "e = comb(d1,d2)\n",
    "print(e)\n"
   ]
  },
  {
   "cell_type": "code",
   "execution_count": 4,
   "id": "5e2606be-5e0f-4bd5-ac81-acac6bf17e37",
   "metadata": {},
   "outputs": [],
   "source": [
    "d1 = {'a1':10,'a2':20,'a3':30,'b2':45}\n",
    "d2 = {'b1':100,'b2':200,'b3':300,'a1':40}"
   ]
  },
  {
   "cell_type": "code",
   "execution_count": 23,
   "id": "dd8b31fc-d35e-46b6-8ced-a00dfa32f199",
   "metadata": {
    "scrolled": true
   },
   "outputs": [
    {
     "data": {
      "text/plain": [
       "['__class__',\n",
       " '__class_getitem__',\n",
       " '__contains__',\n",
       " '__delattr__',\n",
       " '__delitem__',\n",
       " '__dir__',\n",
       " '__doc__',\n",
       " '__eq__',\n",
       " '__format__',\n",
       " '__ge__',\n",
       " '__getattribute__',\n",
       " '__getitem__',\n",
       " '__getstate__',\n",
       " '__gt__',\n",
       " '__hash__',\n",
       " '__init__',\n",
       " '__init_subclass__',\n",
       " '__ior__',\n",
       " '__iter__',\n",
       " '__le__',\n",
       " '__len__',\n",
       " '__lt__',\n",
       " '__ne__',\n",
       " '__new__',\n",
       " '__or__',\n",
       " '__reduce__',\n",
       " '__reduce_ex__',\n",
       " '__repr__',\n",
       " '__reversed__',\n",
       " '__ror__',\n",
       " '__setattr__',\n",
       " '__setitem__',\n",
       " '__sizeof__',\n",
       " '__str__',\n",
       " '__subclasshook__',\n",
       " 'clear',\n",
       " 'copy',\n",
       " 'fromkeys',\n",
       " 'get',\n",
       " 'items',\n",
       " 'keys',\n",
       " 'pop',\n",
       " 'popitem',\n",
       " 'setdefault',\n",
       " 'update',\n",
       " 'values']"
      ]
     },
     "execution_count": 23,
     "metadata": {},
     "output_type": "execute_result"
    }
   ],
   "source": [
    "dir(d1)"
   ]
  },
  {
   "cell_type": "code",
   "execution_count": 7,
   "id": "b2af232e-bcb3-4040-a853-8123588381e8",
   "metadata": {},
   "outputs": [
    {
     "data": {
      "text/plain": [
       "\u001b[0;31mDocstring:\u001b[0m\n",
       "D.pop(k[,d]) -> v, remove specified key and return the corresponding value.\n",
       "\n",
       "If the key is not found, return the default if given; otherwise,\n",
       "raise a KeyError.\n",
       "\u001b[0;31mType:\u001b[0m      builtin_function_or_method"
      ]
     },
     "metadata": {},
     "output_type": "display_data"
    }
   ],
   "source": [
    "d1.pop?\n"
   ]
  },
  {
   "cell_type": "code",
   "execution_count": 5,
   "id": "36ebdd35-fee5-43c9-b09c-bc86ce8d2b4d",
   "metadata": {},
   "outputs": [
    {
     "name": "stdout",
     "output_type": "stream",
     "text": [
      "{'a1': 10, 'a2': 20, 'a3': 30, 'b2': 45}\n",
      "{'b1': 100, 'b2': 200, 'b3': 300, 'a1': 40}\n",
      "{'a1': 50, 'a2': 20, 'a3': 30, 'b2': 245, 'b1': 100, 'b3': 300}\n"
     ]
    }
   ],
   "source": [
    "def comb(a,b):\n",
    "    c = {}\n",
    "    for key in a:\n",
    "        if key in b:\n",
    "            c[key] = a[key] + b[key]\n",
    "        else:\n",
    "            c[key] = a[key]\n",
    "        \n",
    "    for key in b:\n",
    "        if key not in c:\n",
    "            c[key] = b[key]\n",
    "    return c\n",
    "print(d1)\n",
    "print(d2)\n",
    "e = comb(d1,d2)\n",
    "print(e)\n"
   ]
  },
  {
   "cell_type": "code",
   "execution_count": 30,
   "id": "e8c78c1c-8d86-44da-80ee-99385168037b",
   "metadata": {},
   "outputs": [
    {
     "name": "stdout",
     "output_type": "stream",
     "text": [
      "{'a2': 20, 'a3': 30, 'b2': 45}\n",
      "key a1 not found\n",
      "{'a2': 20, 'a3': 30, 'b2': 45}\n",
      "{'a2': 20, 'a3': 30, 'b2': 45}\n"
     ]
    }
   ],
   "source": [
    "def remove_key(k,a):\n",
    "    if k in a:\n",
    "        a.pop(k)\n",
    "    else:\n",
    "        print(f\"key {k} not found\")\n",
    "    return a\n",
    "\n",
    "print(d1)\n",
    "r = remove_key('a1',d1)\n",
    "print(d1)\n",
    "print(r)"
   ]
  },
  {
   "cell_type": "code",
   "execution_count": 64,
   "id": "ed61efd1-e4c6-4d06-a685-247af7571bbb",
   "metadata": {},
   "outputs": [
    {
     "name": "stdout",
     "output_type": "stream",
     "text": [
      "b3 300\n",
      "{'b3': 300, 'a1': 40}\n"
     ]
    }
   ],
   "source": [
    "def remove_value(val, a):\n",
    " \n",
    "  for k, v in a.items():\n",
    "    print(k, v)\n",
    "    if v == val:\n",
    "        a.pop(k)\n",
    "    return a\n",
    "\n",
    "p = remove_value(200,d2)\n",
    "print(p)"
   ]
  },
  {
   "cell_type": "code",
   "execution_count": 76,
   "id": "ee10b763-cebd-44f3-8b3f-02a2a23935a6",
   "metadata": {},
   "outputs": [
    {
     "name": "stdout",
     "output_type": "stream",
     "text": [
      "45\n"
     ]
    }
   ],
   "source": [
    "def max(a):\n",
    "    kmax = 0\n",
    "    for k,v in a.items():\n",
    "        if v > kmax:\n",
    "            kmax = v\n",
    "    print(kmax)\n",
    "           \n",
    "   \n",
    "b = max(d1)\n",
    "            \n",
    "     "
   ]
  },
  {
   "cell_type": "code",
   "execution_count": 74,
   "id": "b8da1201-6967-4a77-a96c-7c450c378d3b",
   "metadata": {},
   "outputs": [],
   "source": [
    "d3 ={'a1':10,'a2':20,'a3':30,'a4':40}"
   ]
  },
  {
   "cell_type": "code",
   "execution_count": 108,
   "id": "9bfd3e15-00ff-4f6d-8ccb-96cac78d90c9",
   "metadata": {},
   "outputs": [
    {
     "name": "stdout",
     "output_type": "stream",
     "text": [
      "(8, [7, 2, 8, 6, 2, 2, 8, 6])\n"
     ]
    }
   ],
   "source": [
    "   def wc(w):\n",
    "    ww = w.split()\n",
    "    n = len(ww)\n",
    "    nn = []\n",
    "    for i in ww:\n",
    "        nn.append(len(i))\n",
    "    return n, nn\n",
    "\n",
    "           \n",
    "r = wc(\"meghraj is learning python he is learning python\") \n",
    "print(r)"
   ]
  }
 ],
 "metadata": {
  "kernelspec": {
   "display_name": "Python 3 (ipykernel)",
   "language": "python",
   "name": "python3"
  },
  "language_info": {
   "codemirror_mode": {
    "name": "ipython",
    "version": 3
   },
   "file_extension": ".py",
   "mimetype": "text/x-python",
   "name": "python",
   "nbconvert_exporter": "python",
   "pygments_lexer": "ipython3",
   "version": "3.13.1"
  }
 },
 "nbformat": 4,
 "nbformat_minor": 5
}
