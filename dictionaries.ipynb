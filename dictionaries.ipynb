{
 "cells": [
  {
   "cell_type": "markdown",
   "id": "c0a7cec3-c2d4-4565-a637-7dd40d8ee9c7",
   "metadata": {},
   "source": [
    "Assignment 8:Dictionaries"
   ]
  },
  {
   "cell_type": "markdown",
   "id": "20c8a20e-434d-4dce-ba77-fdcbcbe90f5d",
   "metadata": {},
   "source": [
    "Create a dictionary (using comprehension) of numbers and some function of these numbers. For example, you could generate a random number to use as the key, and its sine (or exp, or …) as the value. A dict has unique keys, but not unique values. Ensure that your dict has a few replicated values (for example, sin (0) = sin(\\pi) = sin(2\\pi) = 0"
   ]
  },
  {
   "cell_type": "code",
   "execution_count": 22,
   "id": "c5c6a8d8-f6ca-42b7-a104-d7c2660caf73",
   "metadata": {},
   "outputs": [
    {
     "name": "stdout",
     "output_type": "stream",
     "text": [
      "[6.9014744618235335, 6.08970224009951, 6.134559887692892, 5.257856364403988, 1.8623550689915505, 2.774419861492782, 8.564776129626411, 2.325125072389966, 8.009770929946853, 3.5715127801335202] [0.5796418906962222, -0.1922781290905698, -0.1480788462662289, -0.8548848970581903, 0.9577969857822646, 0.35897810702276195, 0.7578437576002888, 0.7287313821124365, 0.9878893714365943, -0.4167981988634579]\n",
      "{6.9014744618235335: 0.5796418906962222, 6.08970224009951: -0.1922781290905698, 6.134559887692892: -0.1480788462662289, 5.257856364403988: -0.8548848970581903, 1.8623550689915505: 0.9577969857822646, 2.774419861492782: 0.35897810702276195, 8.564776129626411: 0.7578437576002888, 2.325125072389966: 0.7287313821124365, 8.009770929946853: 0.9878893714365943, 3.5715127801335202: -0.4167981988634579}\n"
     ]
    }
   ],
   "source": [
    "import math\n",
    "import random\n",
    "a = []\n",
    "b = []\n",
    "for i in range(10):\n",
    "    m = random.uniform(1,10)\n",
    "    a.append(m)\n",
    "    b.append(math.sin(m))\n",
    "print(a, b)\n",
    "l = {x:y for x,y in zip(a,b)}\n",
    "print(l)"
   ]
  },
  {
   "cell_type": "markdown",
   "id": "bfbccef1-c9a3-4647-b4e1-470596d502da",
   "metadata": {},
   "source": [
    "Write a function to do a reverse lookup on the above dictionary. Given a value, find the corresponding key. And find all the keys, not just the first one. What are the arguments to the function? What does the function return?"
   ]
  },
  {
   "cell_type": "code",
   "execution_count": 6,
   "id": "f6ed3c20-5aa8-4e19-a8ee-0c4bf76d5e1b",
   "metadata": {},
   "outputs": [
    {
     "name": "stdout",
     "output_type": "stream",
     "text": [
      "{'a': 1, 'b': 2, 'c': 3} 2\n"
     ]
    },
    {
     "data": {
      "text/plain": [
       "{'b': 2}"
      ]
     },
     "execution_count": 6,
     "metadata": {},
     "output_type": "execute_result"
    }
   ],
   "source": [
    "def rev(d, t):\n",
    "    print(d, t)\n",
    "    a = {key:value for key, value in d.items() if value == t}\n",
    "    return a\n",
    "\n",
    "rev(d, 2)"
   ]
  },
  {
   "cell_type": "markdown",
   "id": "82a8c9d2-4726-4723-887b-ce7c9d06a051",
   "metadata": {},
   "source": [
    "Create two dictionaries, where the values are numbers. You could use the approach in step 1 above, and use a different function for the values. Write a function to combine the two dictionaries: if the keys are unique, just copy the entry to the combined dict. If the key exists in both dicts, then add the corresponding values."
   ]
  },
  {
   "cell_type": "code",
   "execution_count": 38,
   "id": "51879b8c-2917-482d-a57e-69ee630e48f9",
   "metadata": {},
   "outputs": [
    {
     "name": "stdout",
     "output_type": "stream",
     "text": [
      "a 1\n",
      "b 2\n",
      "c 3\n"
     ]
    }
   ],
   "source": [
    "for k, v in zip(d.keys(), d.values()):\n",
    "    print(k, v)"
   ]
  },
  {
   "cell_type": "code",
   "execution_count": 84,
   "id": "d102c154-6dc5-4255-9196-60ef7e51e8a1",
   "metadata": {},
   "outputs": [],
   "source": [
    "a = {'a1':10,'a2':20,'a3':30,'b2':45}\n",
    "b = {'b1':100,'b2':200,'b3':300,'a1':40}"
   ]
  },
  {
   "cell_type": "code",
   "execution_count": 95,
   "id": "e48b61c9-d222-432c-805c-434091a1a312",
   "metadata": {},
   "outputs": [
    {
     "name": "stdout",
     "output_type": "stream",
     "text": [
      "{'a1': 40, 'a2': 20, 'a3': 30, 'b2': 200, 'b1': 100, 'b3': 300}\n"
     ]
    }
   ],
   "source": [
    "def add(d1, d2):\n",
    "    d3 = {}\n",
    "    for k, v in d1.items():\n",
    "        d3[k] = v\n",
    "    for k, v in d2.items():\n",
    "        d3[k] = v\n",
    "    return d3\n",
    "\n",
    "c = add(a, b)\n",
    "print(c)\n",
    "\n",
    "   "
   ]
  },
  {
   "cell_type": "code",
   "execution_count": 98,
   "id": "a62f7326-c97c-448e-9b5a-d37177e2f463",
   "metadata": {},
   "outputs": [
    {
     "name": "stdout",
     "output_type": "stream",
     "text": [
      "{'a1': 999, 'a2': 20, 'a3': 30, 'b2': 200, 'b1': 100, 'b3': 300, 'an': 88}\n"
     ]
    }
   ],
   "source": [
    "c['an'] = 88\n",
    "print(c)"
   ]
  },
  {
   "cell_type": "code",
   "execution_count": 99,
   "id": "aa510eb1-6c91-486e-a920-d56cf1e580b2",
   "metadata": {},
   "outputs": [
    {
     "name": "stdout",
     "output_type": "stream",
     "text": [
      "{'a1': 10, 'a2': 20, 'a3': 30, 'b2': 45, 'b1': 100, 'b3': 300, 'an': 88}\n"
     ]
    }
   ],
   "source": [
    "d = add(c, a)\n",
    "print(d)"
   ]
  },
  {
   "cell_type": "markdown",
   "id": "b7931031-6298-4c78-9289-c810f2248810",
   "metadata": {},
   "source": [
    "The first method copies all of 'a' first, then updates"
   ]
  },
  {
   "cell_type": "code",
   "execution_count": 40,
   "id": "d9733f39-8f51-41e8-8898-17c0475ab7d6",
   "metadata": {},
   "outputs": [
    {
     "name": "stdout",
     "output_type": "stream",
     "text": [
      "{'a1': 50, 'a2': 20, 'a3': 30, 'b2': 245, 'b1': 100, 'b3': 300}\n"
     ]
    }
   ],
   "source": [
    "def comb(a,b):\n",
    "    c = {}\n",
    "    for key in a:\n",
    "        c[key] = a[key] \n",
    "    for key in b:\n",
    "        if key in c:\n",
    "            c[key] = c[key] + b[key]\n",
    "        else:\n",
    "            c[key] = b[key]\n",
    "    return c\n",
    "e = comb(d1,d2)\n",
    "print(e)\n"
   ]
  },
  {
   "cell_type": "code",
   "execution_count": 4,
   "id": "5e2606be-5e0f-4bd5-ac81-acac6bf17e37",
   "metadata": {},
   "outputs": [],
   "source": [
    "d1 = {'a1':10,'a2':20,'a3':30,'b2':45}\n",
    "d2 = {'b1':100,'b2':200,'b3':300,'a1':40}"
   ]
  },
  {
   "cell_type": "markdown",
   "id": "53aeaeae-a0c0-4190-a5a2-c9b2667b967d",
   "metadata": {},
   "source": [
    "The second method merges in one pass over 'a' and then adds missing keys from 'b'"
   ]
  },
  {
   "cell_type": "code",
   "execution_count": 5,
   "id": "36ebdd35-fee5-43c9-b09c-bc86ce8d2b4d",
   "metadata": {},
   "outputs": [
    {
     "name": "stdout",
     "output_type": "stream",
     "text": [
      "{'a1': 10, 'a2': 20, 'a3': 30, 'b2': 45}\n",
      "{'b1': 100, 'b2': 200, 'b3': 300, 'a1': 40}\n",
      "{'a1': 50, 'a2': 20, 'a3': 30, 'b2': 245, 'b1': 100, 'b3': 300}\n"
     ]
    }
   ],
   "source": [
    "def comb(a,b):\n",
    "    c = {}\n",
    "    for key in a:\n",
    "        if key in b:\n",
    "            c[key] = a[key] + b[key]\n",
    "        else:\n",
    "            c[key] = a[key]\n",
    "        \n",
    "    for key in b:\n",
    "        if key not in c:\n",
    "            c[key] = b[key]\n",
    "    return c\n",
    "print(d1)\n",
    "print(d2)\n",
    "e = comb(d1,d2)\n",
    "print(e)\n"
   ]
  },
  {
   "cell_type": "markdown",
   "id": "699e2c8d-058d-43a0-9749-3cc78cbb9c7e",
   "metadata": {},
   "source": [
    "Give a value remove the corresponding key from your dictionary"
   ]
  },
  {
   "cell_type": "code",
   "execution_count": null,
   "id": "0576078d-3544-42d0-9fee-dce4a6552c65",
   "metadata": {},
   "outputs": [],
   "source": []
  },
  {
   "cell_type": "code",
   "execution_count": 30,
   "id": "e8c78c1c-8d86-44da-80ee-99385168037b",
   "metadata": {},
   "outputs": [
    {
     "name": "stdout",
     "output_type": "stream",
     "text": [
      "{'a2': 20, 'a3': 30, 'b2': 45}\n",
      "key a1 not found\n",
      "{'a2': 20, 'a3': 30, 'b2': 45}\n",
      "{'a2': 20, 'a3': 30, 'b2': 45}\n"
     ]
    }
   ],
   "source": [
    "def remove_key(k,a):\n",
    "    if k in a:\n",
    "        a.pop(k)\n",
    "    else:\n",
    "        print(f\"key {k} not found\")\n",
    "    return a\n",
    "\n",
    "print(d1)\n",
    "r = remove_key('a1',d1)\n",
    "print(d1)\n",
    "print(r)"
   ]
  },
  {
   "cell_type": "markdown",
   "id": "59f38934-4f7c-4f39-9597-ab4d7d4e2732",
   "metadata": {},
   "source": [
    "Give a value, remove the corresponding key from your dictionary."
   ]
  },
  {
   "cell_type": "code",
   "execution_count": 64,
   "id": "ed61efd1-e4c6-4d06-a685-247af7571bbb",
   "metadata": {},
   "outputs": [
    {
     "name": "stdout",
     "output_type": "stream",
     "text": [
      "b3 300\n",
      "{'b3': 300, 'a1': 40}\n"
     ]
    }
   ],
   "source": [
    "def remove_value(val, a):\n",
    " \n",
    "  for k, v in a.items():\n",
    "    print(k, v)\n",
    "    if v == val:\n",
    "        a.pop(k)\n",
    "    return a\n",
    "\n",
    "p = remove_value(200,d2)\n",
    "print(p)"
   ]
  },
  {
   "cell_type": "markdown",
   "id": "0b1a1cb7-db3a-4d33-bd60-bec94cb2cad6",
   "metadata": {},
   "source": [
    "Find the key with maximum value"
   ]
  },
  {
   "cell_type": "code",
   "execution_count": 76,
   "id": "ee10b763-cebd-44f3-8b3f-02a2a23935a6",
   "metadata": {},
   "outputs": [
    {
     "name": "stdout",
     "output_type": "stream",
     "text": [
      "45\n"
     ]
    }
   ],
   "source": [
    "def max(a):\n",
    "    kmax = 0\n",
    "    for k,v in a.items():\n",
    "        if v > kmax:\n",
    "            kmax = v\n",
    "    print(kmax)\n",
    "           \n",
    "   \n",
    "b = max(d1)\n",
    "            \n",
    "     "
   ]
  },
  {
   "cell_type": "code",
   "execution_count": 74,
   "id": "b8da1201-6967-4a77-a96c-7c450c378d3b",
   "metadata": {},
   "outputs": [],
   "source": [
    "d3 ={'a1':10,'a2':20,'a3':30,'a4':40}"
   ]
  },
  {
   "cell_type": "markdown",
   "id": "a454f223-3ab7-4449-81de-55126c2c4907",
   "metadata": {},
   "source": [
    "For a given paragaraph of text create a dictionary where the keys are the lengths of words and the values are their frequencies"
   ]
  },
  {
   "cell_type": "code",
   "execution_count": 108,
   "id": "9bfd3e15-00ff-4f6d-8ccb-96cac78d90c9",
   "metadata": {},
   "outputs": [
    {
     "name": "stdout",
     "output_type": "stream",
     "text": [
      "(8, [7, 2, 8, 6, 2, 2, 8, 6])\n"
     ]
    }
   ],
   "source": [
    "   def wc(w):\n",
    "    ww = w.split()\n",
    "    n = len(ww)\n",
    "    nn = []\n",
    "    for i in ww:\n",
    "        nn.append(len(i))\n",
    "    return n, nn\n",
    "\n",
    "           \n",
    "r = wc(\"meghraj is learning python he is learning python\") \n",
    "print(r)"
   ]
  }
 ],
 "metadata": {
  "kernelspec": {
   "display_name": "Python 3 (ipykernel)",
   "language": "python",
   "name": "python3"
  },
  "language_info": {
   "codemirror_mode": {
    "name": "ipython",
    "version": 3
   },
   "file_extension": ".py",
   "mimetype": "text/x-python",
   "name": "python",
   "nbconvert_exporter": "python",
   "pygments_lexer": "ipython3",
   "version": "3.13.1"
  }
 },
 "nbformat": 4,
 "nbformat_minor": 5
}
