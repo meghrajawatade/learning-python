{
 "cells": [
  {
   "cell_type": "markdown",
   "id": "02fe0d54-07fa-446e-a3eb-d803c7a6aeb2",
   "metadata": {},
   "source": [
    "Assignment 5:Strings"
   ]
  },
  {
   "cell_type": "markdown",
   "id": "1de60f7d-7f67-427e-8dcc-4fd8d4c33635",
   "metadata": {},
   "source": [
    "1) Count the number of uppercase and lowercase letters in a string"
   ]
  },
  {
   "cell_type": "code",
   "execution_count": 37,
   "id": "57983c59-fd69-4978-b45a-71f8ff5ab3cb",
   "metadata": {},
   "outputs": [
    {
     "name": "stdout",
     "output_type": "stream",
     "text": [
      "3\n",
      "14\n",
      "20 17\n"
     ]
    }
   ],
   "source": [
    "w = \"I am Meghraj Awatade\"\n",
    "u = 0\n",
    "l = 0\n",
    "for i in w:\n",
    "     if i.isupper():\n",
    "         u+=1\n",
    "     elif i.islower():\n",
    "         l+=1\n",
    "print(u)\n",
    "print(l)\n",
    "print(len(w), u+l)"
   ]
  },
  {
   "cell_type": "markdown",
   "id": "096db3d7-adf1-401a-9bcb-8c49c00c54f5",
   "metadata": {},
   "source": [
    "2) Count the number of words in a string"
   ]
  },
  {
   "cell_type": "code",
   "execution_count": 26,
   "id": "9801cfc5-2ca0-49c0-8940-416293a83b98",
   "metadata": {},
   "outputs": [
    {
     "name": "stdout",
     "output_type": "stream",
     "text": [
      "10\n"
     ]
    }
   ],
   "source": [
    "w = \"I am Meghraj Awatade dnckdn kcnlqjcn lkncl kcd cdkcnk kdcndn\"\n",
    "\n",
    "ww = w.split()\n",
    "print(len(ww))"
   ]
  },
  {
   "cell_type": "code",
   "execution_count": 38,
   "id": "28a7ce61-2f0c-4d19-bf55-5808a50bd444",
   "metadata": {},
   "outputs": [
    {
     "name": "stdout",
     "output_type": "stream",
     "text": [
      "51\n",
      "13\n"
     ]
    }
   ],
   "source": [
    "w = \"I am Meghraj     Awatade dnckdn kcnlqjcn lkncl kcd cdkcnk kdcndn\"\n",
    "ww = 0\n",
    "ss = 0\n",
    "for i in w:\n",
    "    if i.isspace() == 1 :\n",
    "        ss += 1\n",
    "    elif i.isspace() == 0 :\n",
    "        ww += 1\n",
    "print(ww)\n",
    "print(ss)"
   ]
  },
  {
   "cell_type": "markdown",
   "id": "45f5ddf6-d532-4802-9dd6-e43d215146fb",
   "metadata": {},
   "source": [
    "3) Check if a given word is a palindrome"
   ]
  },
  {
   "cell_type": "code",
   "execution_count": 205,
   "id": "bee289c9-eb3e-46ff-b20b-bc2c09d64f82",
   "metadata": {},
   "outputs": [
    {
     "name": "stdout",
     "output_type": "stream",
     "text": [
      "palindrome\n"
     ]
    }
   ],
   "source": [
    "w = \"racecar\"\n",
    "n = len(w)\n",
    "for i in range(len(w)):\n",
    "    \n",
    "  if w[i] == w[n-1-i]:\n",
    "    f = True\n",
    "  else:\n",
    "      f = False\n",
    "      break\n",
    "if f == True:\n",
    "    print(\"palindrome\")\n",
    "else:\n",
    "    print(\"not a palindrome\")\n"
   ]
  },
  {
   "cell_type": "markdown",
   "id": "3363f8c0-3fa7-410c-b110-77ecb0d1a80a",
   "metadata": {},
   "source": [
    "4) Sarcasticizer: Capitalise every 3rd letter in a string"
   ]
  },
  {
   "cell_type": "code",
   "execution_count": 255,
   "id": "0ee7c17a-c0de-4f34-8f88-6f0a46a8fbe5",
   "metadata": {},
   "outputs": [
    {
     "name": "stdout",
     "output_type": "stream",
     "text": [
      "m e G h r A j i S l e A r n I n g P y t H o n D e l I g e N t l Y\n"
     ]
    }
   ],
   "source": [
    "w = \"meghraj is learning python deligently\"\n",
    "\n",
    "\n",
    "ww = list(\"\".join(w.split()))\n",
    "\n",
    "for i in range(len(ww)):\n",
    "    if (i+1)%3==0:\n",
    "      ww[i]= ww[i].upper()\n",
    "    \n",
    "    \n",
    "print(\"\".join(ww))        \n"
   ]
  },
  {
   "cell_type": "markdown",
   "id": "9e3305b6-7a85-46cc-9c32-ab0059e3878a",
   "metadata": {},
   "source": [
    "5) Count the number of vowels in a string"
   ]
  },
  {
   "cell_type": "code",
   "execution_count": 24,
   "id": "de43ffc1-fc8e-4618-b61a-c4c8a35790e2",
   "metadata": {},
   "outputs": [
    {
     "name": "stdout",
     "output_type": "stream",
     "text": [
      "10\n"
     ]
    }
   ],
   "source": [
    "w = \"meghraj is learning python deligently\"\n",
    "ww = 0\n",
    "\n",
    "\n",
    "for m in w:\n",
    "    if m in 'aeiou' :\n",
    "        ww += 1\n",
    "        \n",
    "print(ww)"
   ]
  },
  {
   "cell_type": "markdown",
   "id": "6f1e27db-39fd-4e57-b2f8-d583918141c0",
   "metadata": {},
   "source": [
    "6) Check if a given string is a palindrome, ignoring spaces"
   ]
  },
  {
   "cell_type": "code",
   "execution_count": 194,
   "id": "d3c81781-803d-4162-9747-7e8a50c3abd1",
   "metadata": {},
   "outputs": [
    {
     "name": "stdout",
     "output_type": "stream",
     "text": [
      "wasitacaroracatisaw\n",
      "palindrome\n"
     ]
    }
   ],
   "source": [
    "p = \"was it a car or a cat i saw\"\n",
    "p.split()\n",
    "pp = \"\".join(p.split())\n",
    "print(pp)\n",
    "n = len(pp)\n",
    "pFlag = True;\n",
    "for i in range(len(pp)):\n",
    "    if pp[i] != pp[n-1-i]:\n",
    "        pFlag = False\n",
    "        break\n",
    "       \n",
    "if pFlag == True:\n",
    "    print(\"palindrome\")\n",
    "else:\n",
    "    print(\"not a palindrome\")\n",
    "\n"
   ]
  },
  {
   "cell_type": "markdown",
   "id": "436e2aae-325e-4b1e-9348-741f1bba0a91",
   "metadata": {},
   "source": [
    "7) Reverse all the letters in a string"
   ]
  },
  {
   "cell_type": "code",
   "execution_count": 83,
   "id": "4583ac06-98bf-4448-9b42-80794ff67a44",
   "metadata": {},
   "outputs": [
    {
     "name": "stdout",
     "output_type": "stream",
     "text": [
      "['m', 'e', 'g', 'h', 'r', 'a', 'j', 'i', 's', 'l', 'e', 'a', 'r', 'n', 'i', 'n', 'g', 'p', 'y', 't', 'h', 'o', 'n', 'd', 'e', 'l', 'i', 'g', 'e', 'n', 't', 'l', 'y']\n",
      "['y', 'l', 't', 'n', 'e', 'g', 'i', 'l', 'e', 'd', 'n', 'o', 'h', 't', 'y', 'p', 'g', 'n', 'i', 'n', 'r', 'a', 'e', 'l', 's', 'i', 'j', 'a', 'r', 'h', 'g', 'e', 'm']\n",
      "yltnegilednohtypgninraelsijarhgem\n",
      "m e g h r a j i s l e a r n i n g p y t h o n d e l i g e n t l y\n"
     ]
    }
   ],
   "source": [
    "w = \"meghraj is learning python deligently\"\n",
    "w.split()\n",
    "ww = \"\".join(w.split())\n",
    "p = list(ww)\n",
    "print(p)\n",
    "p.reverse()\n",
    "print(p)\n",
    "ab = \"\".join(p)\n",
    "print(ab)\n",
    "l,r = 0,len(p)-1\n",
    "while l < r:\n",
    "    p[l],p[r] = p[r],p[l]\n",
    "    l += 1\n",
    "    r -= 1\n",
    "    rr = \" \".join(p)\n",
    "\n",
    "print(rr)\n"
   ]
  },
  {
   "cell_type": "markdown",
   "id": "fb56e6c4-1dc1-4e89-9e77-5d1b8e79dfeb",
   "metadata": {},
   "source": [
    "8) Reverse all the words in a string"
   ]
  },
  {
   "cell_type": "code",
   "execution_count": 87,
   "id": "c972aaca-a940-4b8a-bdc8-6ac6483ab66b",
   "metadata": {},
   "outputs": [
    {
     "name": "stdout",
     "output_type": "stream",
     "text": [
      "['meghraj', 'is', 'learning', 'python', 'deligently']\n",
      "['deligently', 'python', 'learning', 'is', 'meghraj']\n",
      "deligently python learning is meghraj\n"
     ]
    }
   ],
   "source": [
    "w = \"meghraj is learning python deligently\"\n",
    "pp = w.split()\n",
    "#pp = list(w.split())\n",
    "print(pp)\n",
    "pp.reverse()\n",
    "s = \" \".join(pp)\n",
    "print(pp)\n",
    "print(s)\n"
   ]
  },
  {
   "cell_type": "code",
   "execution_count": null,
   "id": "ccb547a8-16da-4048-91a2-802e66f0d68a",
   "metadata": {},
   "outputs": [],
   "source": []
  },
  {
   "cell_type": "markdown",
   "id": "4597fe1e-0d6d-43ed-ab4a-aae94538a015",
   "metadata": {},
   "source": [
    "9) Reverse the letters of the words of a string"
   ]
  },
  {
   "cell_type": "code",
   "execution_count": 126,
   "id": "fa25e8d1-2f57-4b75-a12e-a3300d648257",
   "metadata": {},
   "outputs": [
    {
     "name": "stdout",
     "output_type": "stream",
     "text": [
      "['jarhgem', 'si', 'gninrael', 'nohtyp', 'yltnegiled']\n",
      "jarhgem si gninrael nohtyp yltnegiled\n"
     ]
    }
   ],
   "source": [
    "w = \"meghraj is learning python deligently\"\n",
    "p = w.split()\n",
    "\n",
    "for i in range(len(p)):\n",
    "    c = list(p[i])\n",
    "    l,r = 0,len(c)-1\n",
    "    while l < r:\n",
    "       c[l],c[r] = c[r],c[l]\n",
    "       l += 1\n",
    "       r -= 1\n",
    "       p[i] = \"\".join(c)\n",
    "print(p)\n",
    "pp = \" \".join(p)  \n",
    "print(pp) \n",
    "\n"
   ]
  }
 ],
 "metadata": {
  "kernelspec": {
   "display_name": "Python 3 (ipykernel)",
   "language": "python",
   "name": "python3"
  },
  "language_info": {
   "codemirror_mode": {
    "name": "ipython",
    "version": 3
   },
   "file_extension": ".py",
   "mimetype": "text/x-python",
   "name": "python",
   "nbconvert_exporter": "python",
   "pygments_lexer": "ipython3",
   "version": "3.12.2"
  }
 },
 "nbformat": 4,
 "nbformat_minor": 5
}
